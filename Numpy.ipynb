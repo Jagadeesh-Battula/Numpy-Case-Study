{
 "cells": [
  {
   "cell_type": "code",
   "execution_count": 1,
   "id": "686c274e-07ab-4113-ac79-168e052412e8",
   "metadata": {},
   "outputs": [
    {
     "name": "stdout",
     "output_type": "stream",
     "text": [
      "[1 2 3 4 5]\n",
      "[[1 2 3]\n",
      " [4 5 6]]\n",
      "[[0. 0. 0. 0.]\n",
      " [0. 0. 0. 0.]\n",
      " [0. 0. 0. 0.]]\n",
      "[[1. 1.]\n",
      " [1. 1.]]\n"
     ]
    }
   ],
   "source": [
    "import numpy as np\n",
    "\n",
    "#creating arrays\n",
    "\n",
    "a = np.array([1, 2, 3, 4, 5]) \n",
    "print(a)\n",
    "\n",
    "b = np.array([[1, 2, 3], [4, 5, 6]]) \n",
    "print(b)\n",
    "\n",
    "c=np.zeros((3,4))\n",
    "print(c)\n",
    "\n",
    "d = np.ones((2, 2)) \n",
    "print(d)\n"
   ]
  },
  {
   "cell_type": "code",
   "execution_count": 3,
   "id": "58e6b937-9871-45e5-a7d5-136bcac379ff",
   "metadata": {},
   "outputs": [
    {
     "name": "stdout",
     "output_type": "stream",
     "text": [
      "[5 7 9]\n"
     ]
    }
   ],
   "source": [
    "#Performing mathematical operations on numpy arrays\n",
    "\n",
    "#Additionn\n",
    "\n",
    "a=np.array([1,2,3])\n",
    "b=np.array([4,5,6])\n",
    "c=a+b\n",
    "print(c)"
   ]
  },
  {
   "cell_type": "code",
   "execution_count": 4,
   "id": "18486f9e-116e-4ec0-b42d-2ee2f17d9580",
   "metadata": {},
   "outputs": [
    {
     "name": "stdout",
     "output_type": "stream",
     "text": [
      "[[ 5 12]\n",
      " [21 32]]\n"
     ]
    }
   ],
   "source": [
    "#Multiplication\n",
    "\n",
    "d=np.array([[1,2],[3,4]])\n",
    "e=np.array([[5,6],[7,8]])\n",
    "f=d*e\n",
    "print(f)"
   ]
  },
  {
   "cell_type": "code",
   "execution_count": 6,
   "id": "8844cd24-a4f1-4f77-8a37-3c232584fb1c",
   "metadata": {},
   "outputs": [
    {
     "name": "stdout",
     "output_type": "stream",
     "text": [
      "[[19 22]\n",
      " [43 50]]\n"
     ]
    }
   ],
   "source": [
    "#Performing matrix multiplication\n",
    "\n",
    "g=np.array([[1,2],[3,4]])\n",
    "h=np.array([[5,6],[7,8]])\n",
    "i=np.dot(g,h)\n",
    "print(i)\n"
   ]
  },
  {
   "cell_type": "code",
   "execution_count": null,
   "id": "d82e3dbd-b60b-4390-9f2f-d1993d7efba1",
   "metadata": {},
   "outputs": [],
   "source": []
  }
 ],
 "metadata": {
  "kernelspec": {
   "display_name": "Python 3 (ipykernel)",
   "language": "python",
   "name": "python3"
  },
  "language_info": {
   "codemirror_mode": {
    "name": "ipython",
    "version": 3
   },
   "file_extension": ".py",
   "mimetype": "text/x-python",
   "name": "python",
   "nbconvert_exporter": "python",
   "pygments_lexer": "ipython3",
   "version": "3.9.12"
  }
 },
 "nbformat": 4,
 "nbformat_minor": 5
}
